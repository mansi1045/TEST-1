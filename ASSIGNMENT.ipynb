{
  "nbformat": 4,
  "nbformat_minor": 0,
  "metadata": {
    "colab": {
      "provenance": [],
      "authorship_tag": "ABX9TyOx0M7Hub9GkSO+hNfN9BVy",
      "include_colab_link": true
    },
    "kernelspec": {
      "name": "python3",
      "display_name": "Python 3"
    },
    "language_info": {
      "name": "python"
    }
  },
  "cells": [
    {
      "cell_type": "markdown",
      "metadata": {
        "id": "view-in-github",
        "colab_type": "text"
      },
      "source": [
        "<a href=\"https://colab.research.google.com/github/mansi1045/TEST-1/blob/main/ASSIGNMENT.ipynb\" target=\"_parent\"><img src=\"https://colab.research.google.com/assets/colab-badge.svg\" alt=\"Open In Colab\"/></a>"
      ]
    },
    {
      "cell_type": "code",
      "execution_count": null,
      "metadata": {
        "colab": {
          "base_uri": "https://localhost:8080/"
        },
        "id": "hB7R2Bk1q92y",
        "outputId": "42c0fea9-1338-4d5d-8472-31bffe94220c"
      },
      "outputs": [
        {
          "output_type": "stream",
          "name": "stdout",
          "text": [
            "Enter the first number: 10\n",
            "Enter the second number: 28\n",
            "The result of adding 10 and 28 is: 38.0\n"
          ]
        }
      ],
      "source": [
        "\n",
        "\n",
        "def add_numbers():\n",
        "\n",
        "    num1 = input(\"Enter the first number: \")\n",
        "    num2 = input(\"Enter the second number: \")\n",
        "\n",
        "    try:\n",
        "        result = float(num1) + float(num2)\n",
        "        print(\"The result of adding {} and {} is: {}\".format(num1, num2, result))\n",
        "    except ValueError:\n",
        "        print(\"Please enter valid numbers.\")\n",
        "\n",
        "add_numbers()"
      ]
    },
    {
      "cell_type": "code",
      "source": [
        "\n",
        "def concatenate_strings():\n",
        "\n",
        "    str1 = input(\"Enter the first string: \")\n",
        "    str2 = input(\"Enter the second string: \")\n",
        "\n",
        "    result = str1 + \" \" + str2\n",
        "\n",
        "    print(\"The concatenated result is:\", result)\n",
        "\n",
        "concatenate_strings()"
      ],
      "metadata": {
        "colab": {
          "base_uri": "https://localhost:8080/"
        },
        "id": "EqgJ60dozKWL",
        "outputId": "5c2938e4-c79a-4f09-dd88-82110fa97658"
      },
      "execution_count": null,
      "outputs": [
        {
          "output_type": "stream",
          "name": "stdout",
          "text": [
            "Enter the first string: BCA students\n",
            "Enter the second string: are best\n",
            "The concatenated result is: BCA students are best\n"
          ]
        }
      ]
    },
    {
      "cell_type": "code",
      "source": [
        "\n",
        "def find_max():\n",
        "    num1 = float(input(\"Enter the first number: \"))\n",
        "    num2 = float(input(\"Enter the second number: \"))\n",
        "\n",
        "    if num1 > num2:\n",
        "        maximum = num1\n",
        "    else:\n",
        "        maximum = num2\n",
        "\n",
        "    print(\"The maximum of {} and {} is: {}\".format(num1, num2, maximum))\n",
        "\n",
        "find_max()\n"
      ],
      "metadata": {
        "colab": {
          "base_uri": "https://localhost:8080/"
        },
        "id": "MqTuyxb84cht",
        "outputId": "81665d72-31fd-44e7-9d93-c685fc62f1e1"
      },
      "execution_count": null,
      "outputs": [
        {
          "output_type": "stream",
          "name": "stdout",
          "text": [
            "Enter the first number: 5\n",
            "Enter the second number: 8\n",
            "The maximum of 5.0 and 8.0 is: 8.0\n"
          ]
        }
      ]
    },
    {
      "cell_type": "code",
      "source": [
        "def factorial_recursive(n):\n",
        "    if n < 0:\n",
        "        return \"Factorial is not defined for negative numbers.\"\n",
        "    if n == 0 or n == 1:\n",
        "        return 1\n",
        "    else:\n",
        "        return n * factorial_recursive(n - 1)\n",
        "\n",
        "number = int(input(\"Enter a number to find its factorial: \"))\n",
        "result = factorial_recursive(number)\n",
        "\n",
        "print(f\"The factorial of {number} is: {result}\")\n"
      ],
      "metadata": {
        "colab": {
          "base_uri": "https://localhost:8080/"
        },
        "id": "8qvOfmGI6otu",
        "outputId": "0057c54b-2f6f-430b-a9a1-bc0e26d5c842"
      },
      "execution_count": null,
      "outputs": [
        {
          "output_type": "stream",
          "name": "stdout",
          "text": [
            "Enter a number to find its factorial: 5\n",
            "The factorial of 5 is: 120\n"
          ]
        }
      ]
    },
    {
      "cell_type": "code",
      "source": [
        "def sum_of_first_n(n):\n",
        "    return sum(range(1, n + 1))\n",
        "\n",
        "n = 10\n",
        "\n",
        "result = sum_of_first_n(n)\n",
        "\n",
        "print(f\"The sum of the first {n} numbers is: {result}\")\n"
      ],
      "metadata": {
        "colab": {
          "base_uri": "https://localhost:8080/"
        },
        "id": "bYWN-I_UM21q",
        "outputId": "ac497967-9e3f-4689-f3b1-aa7fd2558534"
      },
      "execution_count": null,
      "outputs": [
        {
          "output_type": "stream",
          "name": "stdout",
          "text": [
            "The sum of the first 10 numbers is: 55\n"
          ]
        }
      ]
    },
    {
      "cell_type": "code",
      "source": [
        "my_list = [2, 3, 4, 5, 6, -1, -3, -5, \"bca\", \"section-b\", \"hello\", \"boys and girls\"]\n",
        "\n",
        "def extract_negative_numbers(input_list):\n",
        "    negative_numbers = [item for item in input_list if isinstance(item, int) and item < 0]\n",
        "    return negative_numbers\n",
        "\n",
        "negative_numbers = extract_negative_numbers(my_list)\n",
        "\n",
        "print(\"The negative numbers in the list are:\", negative_numbers)\n"
      ],
      "metadata": {
        "colab": {
          "base_uri": "https://localhost:8080/"
        },
        "id": "mLDQ7koYQxyp",
        "outputId": "eb6b8f1d-fd10-4c58-f081-1edcb4775fc4"
      },
      "execution_count": null,
      "outputs": [
        {
          "output_type": "stream",
          "name": "stdout",
          "text": [
            "The negative numbers in the list are: [-1, -3, -5]\n"
          ]
        }
      ]
    },
    {
      "cell_type": "code",
      "source": [
        "my_list = [2, 3, 4, 5, 6, -1, -3, -5, \"bca\", \"section-b\", \"hello\", \"boys and girls\"]\n",
        "\n",
        "def extract_positive_numbers(input_list):\n",
        "    positive_numbers = [item for item in input_list if isinstance(item, int) and item > 0]\n",
        "    return positive_numbers\n",
        "\n",
        "positive_numbers = extract_positive_numbers(my_list)\n",
        "\n",
        "print(\"The positive numbers in the list are:\", positive_numbers)\n"
      ],
      "metadata": {
        "colab": {
          "base_uri": "https://localhost:8080/"
        },
        "id": "EBEIM1bNUYZW",
        "outputId": "04dce998-9571-4632-ff8b-5de1364cca68"
      },
      "execution_count": null,
      "outputs": [
        {
          "output_type": "stream",
          "name": "stdout",
          "text": [
            "The positive numbers in the list are: [2, 3, 4, 5, 6]\n"
          ]
        }
      ]
    },
    {
      "cell_type": "code",
      "source": [
        "my_list = [2, 3, 4, 5, 6, -1, -3, -5, \"bca\", \"section-b\", \"hello\", \"boys and girls\"]\n",
        "\n",
        "def extract_even_numbers(input_list):\n",
        "    even_numbers = [item for item in input_list if isinstance(item, int) and item % 2 == 0]\n",
        "    return even_numbers\n",
        "\n",
        "even_numbers = extract_even_numbers(my_list)\n",
        "\n",
        "print(\"The even numbers in the list are:\", even_numbers)\n"
      ],
      "metadata": {
        "colab": {
          "base_uri": "https://localhost:8080/"
        },
        "id": "8N1LuMzfWcd5",
        "outputId": "5d5c4de8-b06b-4045-de55-c0d1f345ddf0"
      },
      "execution_count": null,
      "outputs": [
        {
          "output_type": "stream",
          "name": "stdout",
          "text": [
            "The even numbers in the list are: [2, 4, 6]\n"
          ]
        }
      ]
    },
    {
      "cell_type": "code",
      "source": [
        "my_list = [2, 3, 4, 5, 6, -1, -3, -5, \"bca\", \"section-b\", \"hello\", \"boys and girls\"]\n",
        "\n",
        "def extract_odd_numbers(input_list):\n",
        "    odd_numbers = [item for item in input_list if isinstance(item, int) and item % 2 != 0]\n",
        "    return odd_numbers\n",
        "\n",
        "odd_numbers = extract_odd_numbers(my_list)\n",
        "\n",
        "print(\"The odd numbers in the list are:\", odd_numbers)\n"
      ],
      "metadata": {
        "colab": {
          "base_uri": "https://localhost:8080/"
        },
        "id": "eqKiRpW8XItR",
        "outputId": "a85388d0-23e1-401e-e694-a01da78b03cb"
      },
      "execution_count": null,
      "outputs": [
        {
          "output_type": "stream",
          "name": "stdout",
          "text": [
            "The odd numbers in the list are: [3, 5, -1, -3, -5]\n"
          ]
        }
      ]
    },
    {
      "cell_type": "code",
      "source": [
        "my_list = [2, 3, 4, 5, 6, -1, -3, -5, \"bca\", \"section-b\", \"hello\", \"boys and girls\"]\n",
        "\n",
        "def extract_strings(input_list):\n",
        "    strings = [item for item in input_list if isinstance(item, str)]\n",
        "    return strings\n",
        "\n",
        "extracted_strings = extract_strings(my_list)\n",
        "\n",
        "print(\"The strings in the list are:\", extracted_strings)\n"
      ],
      "metadata": {
        "colab": {
          "base_uri": "https://localhost:8080/"
        },
        "id": "IvK4aR6PZeMM",
        "outputId": "8923a348-cbdc-43f1-9139-4dfb4e27a044"
      },
      "execution_count": null,
      "outputs": [
        {
          "output_type": "stream",
          "name": "stdout",
          "text": [
            "The strings in the list are: ['bca', 'section-b', 'hello', 'boys and girls']\n"
          ]
        }
      ]
    },
    {
      "cell_type": "code",
      "source": [
        "my_list = [2, 3, 4, 5, 6, -1, -3, -5, \"bca\", \"section-b\", \"hello\", \"boys and girls\"]\n",
        "\n",
        "def extract_multiples_of_any(input_list, multiples):\n",
        "    extracted_numbers = [\n",
        "        item for item in input_list\n",
        "        if isinstance(item, int) and any(item % multiple == 0 for multiple in multiples)\n",
        "    ]\n",
        "    return extracted_numbers\n",
        "\n",
        "multiples_to_check = [2, 3, 5]\n",
        "\n",
        "result = extract_multiples_of_any(my_list, multiples_to_check)\n",
        "\n",
        "print(\"The numbers that are multiples of any of the specified numbers are:\", result)\n"
      ],
      "metadata": {
        "colab": {
          "base_uri": "https://localhost:8080/"
        },
        "id": "GysNT-CGbdRM",
        "outputId": "9ae5c071-73c5-4ed5-dd78-8521f6b1d41f"
      },
      "execution_count": null,
      "outputs": [
        {
          "output_type": "stream",
          "name": "stdout",
          "text": [
            "The numbers that are multiples of any of the specified numbers are: [2, 3, 4, 5, 6, -3, -5]\n"
          ]
        }
      ]
    },
    {
      "cell_type": "code",
      "source": [
        "# Given list\n",
        "my_list = [2, 3, 4, 5, 6, -1, -3, -5, \"bca\", \"section-b\", \"hello\", \"boys and girls\"]\n",
        "\n",
        "# Extract multiples of three\n",
        "multiples_of_three = [x for x in my_list if isinstance(x, int) and x % 3 == 0]\n",
        "\n",
        "print(multiples_of_three)"
      ],
      "metadata": {
        "colab": {
          "base_uri": "https://localhost:8080/"
        },
        "id": "0hd1xK8p_i-h",
        "outputId": "16b62ab5-1486-46de-940d-9b532413bc4b"
      },
      "execution_count": null,
      "outputs": [
        {
          "output_type": "stream",
          "name": "stdout",
          "text": [
            "[3, 6, -3]\n"
          ]
        }
      ]
    }
  ]
}